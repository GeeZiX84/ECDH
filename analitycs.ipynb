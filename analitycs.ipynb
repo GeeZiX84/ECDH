{
 "cells": [
  {
   "cell_type": "code",
   "execution_count": null,
   "id": "ed1ee1fb",
   "metadata": {},
   "outputs": [
    {
     "name": "stderr",
     "output_type": "stream",
     "text": [
      "C:\\Users\\geezix\\AppData\\Local\\Temp\\ipykernel_17108\\3252431843.py:12: FutureWarning: The 'delim_whitespace' keyword in pd.read_csv is deprecated and will be removed in a future version. Use ``sep='\\s+'`` instead\n",
      "  c1 = pd.read_csv(\"curves.txt\", delim_whitespace=True, header=None).to_csv(\"curves.csv\", index=False)\n",
      "C:\\Users\\geezix\\AppData\\Local\\Temp\\ipykernel_17108\\3252431843.py:13: FutureWarning: The 'delim_whitespace' keyword in pd.read_csv is deprecated and will be removed in a future version. Use ``sep='\\s+'`` instead\n",
      "  c2 = pd.read_csv(\"curves2.txt\", delim_whitespace=True, header=None).to_csv(\"curves2.csv\", index=False)\n"
     ]
    }
   ],
   "source": [
    "import pandas as pd\n",
    "import numpy as np\n",
    "import matplotlib.pyplot as plt\n",
    "import seaborn as sns\n",
    "\n",
    "\n",
    "#subprocess.run([\"curve_finder_opt.cpp\"])\n",
    "\n",
    "\n",
    "#subprocess.run([\"curve_finder.cpp\"]) \n",
    "\n",
    "c1 = pd.DataFrame(pd.read_csv(\"curves.txt\", delim_whitespace=True, header=None).to_csv(\"curves.csv\", index=False))\n",
    "c2 = pd.DataFrame(pd.read_csv(\"curves2.txt\", delim_whitespace=True, header=None).to_csv(\"curves2.csv\", index=False))\n"
   ]
  },
  {
   "cell_type": "code",
   "execution_count": null,
   "id": "813c219d",
   "metadata": {},
   "outputs": [
    {
     "ename": "AttributeError",
     "evalue": "'NoneType' object has no attribute 'head'",
     "output_type": "error",
     "traceback": [
      "\u001b[31m---------------------------------------------------------------------------\u001b[39m",
      "\u001b[31mAttributeError\u001b[39m                            Traceback (most recent call last)",
      "\u001b[36mCell\u001b[39m\u001b[36m \u001b[39m\u001b[32mIn[7]\u001b[39m\u001b[32m, line 1\u001b[39m\n\u001b[32m----> \u001b[39m\u001b[32m1\u001b[39m \u001b[43mc1\u001b[49m\u001b[43m.\u001b[49m\u001b[43mhead\u001b[49m(\u001b[32m10\u001b[39m)\n",
      "\u001b[31mAttributeError\u001b[39m: 'NoneType' object has no attribute 'head'"
     ]
    }
   ],
   "source": []
  }
 ],
 "metadata": {
  "kernelspec": {
   "display_name": "Python 3",
   "language": "python",
   "name": "python3"
  },
  "language_info": {
   "codemirror_mode": {
    "name": "ipython",
    "version": 3
   },
   "file_extension": ".py",
   "mimetype": "text/x-python",
   "name": "python",
   "nbconvert_exporter": "python",
   "pygments_lexer": "ipython3",
   "version": "3.13.7"
  }
 },
 "nbformat": 4,
 "nbformat_minor": 5
}
